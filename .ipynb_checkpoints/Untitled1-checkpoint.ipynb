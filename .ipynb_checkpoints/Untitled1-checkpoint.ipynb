{
 "cells": [
  {
   "cell_type": "code",
   "execution_count": 26,
   "id": "a1c8b900",
   "metadata": {},
   "outputs": [
    {
     "name": "stdout",
     "output_type": "stream",
     "text": [
      "Don :)\n"
     ]
    }
   ],
   "source": [
    "import Telecom_Cable_Color_Coding\n",
    "\n",
    "def test_number_to_pair(pair_number,expected_major_color, expected_minor_color):\n",
    "  major_color, minor_color = get_color_from_pair_number(pair_number)\n",
    "  assert(major_color == expected_major_color)\n",
    "  assert(minor_color == expected_minor_color)\n",
    "\n",
    "def test_pair_to_number(major_color, minor_color, expected_pair_number):\n",
    "  pair_number = get_pair_number_from_color(major_color, minor_color)\n",
    "  assert(pair_number == expected_pair_number)\n",
    "\n",
    "if __name__ == '__main__':\n",
    "  test_number_to_pair(4, 'White', 'Brown')\n",
    "  test_number_to_pair(5, 'White', 'Slate')\n",
    "  test_pair_to_number('Black', 'Orange', 12)\n",
    "  test_pair_to_number('Violet', 'Slate', 25)\n",
    "  print('Done :)')\n"
   ]
  },
  {
   "cell_type": "code",
   "execution_count": 20,
   "id": "e0cdad70",
   "metadata": {},
   "outputs": [
    {
     "name": "stdout",
     "output_type": "stream",
     "text": [
      "Done :)\n"
     ]
    }
   ],
   "source": [
    "\n"
   ]
  },
  {
   "cell_type": "code",
   "execution_count": null,
   "id": "7db4fb02",
   "metadata": {},
   "outputs": [],
   "source": []
  }
 ],
 "metadata": {
  "kernelspec": {
   "display_name": "Python 3 (ipykernel)",
   "language": "python",
   "name": "python3"
  },
  "language_info": {
   "codemirror_mode": {
    "name": "ipython",
    "version": 3
   },
   "file_extension": ".py",
   "mimetype": "text/x-python",
   "name": "python",
   "nbconvert_exporter": "python",
   "pygments_lexer": "ipython3",
   "version": "3.9.7"
  }
 },
 "nbformat": 4,
 "nbformat_minor": 5
}
